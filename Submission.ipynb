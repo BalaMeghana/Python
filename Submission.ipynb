{
 "cells": [
  {
   "cell_type": "markdown",
   "id": "eeea87fe-9a7c-494b-bf5a-c54ab1eaf408",
   "metadata": {},
   "source": [
    "# My Jupyter Notebook on IBM Watson Studio"
   ]
  },
  {
   "cell_type": "markdown",
   "id": "c8dc9f9e-125a-42f3-abef-5302016f30f0",
   "metadata": {},
   "source": [
    "**Bala Meghana Duggimpudi**"
   ]
  },
  {
   "cell_type": "markdown",
   "id": "12d6896a-15b0-4e70-aaf3-e2fc6f3645a3",
   "metadata": {},
   "source": [
    "**Software Engineer**"
   ]
  },
  {
   "cell_type": "markdown",
   "id": "93804dad-a144-4f15-9874-41acd5d8b163",
   "metadata": {},
   "source": [
    "*I am interested in Data Science because I love to solve business problems using data and tell stories from the insights gained*"
   ]
  },
  {
   "cell_type": "markdown",
   "id": "2d9098e1-2ed3-43ca-b61f-6af0e706a228",
   "metadata": {},
   "source": [
    "### The below code is used to add two numbers ###"
   ]
  },
  {
   "cell_type": "code",
   "execution_count": 1,
   "id": "26170d43-93ba-457c-afa0-bef06861a0c0",
   "metadata": {},
   "outputs": [
    {
     "data": {
      "text/plain": [
       "2"
      ]
     },
     "execution_count": 1,
     "metadata": {},
     "output_type": "execute_result"
    }
   ],
   "source": [
    "1+1"
   ]
  },
  {
   "cell_type": "markdown",
   "id": "440e9111-9b52-42e3-a6a1-4867dc5f2682",
   "metadata": {},
   "source": [
    "~~Strikethrough"
   ]
  },
  {
   "cell_type": "markdown",
   "id": "f50340d6-8fdf-4406-8f88-5705a2efd39a",
   "metadata": {},
   "source": [
    "> \"Blocked quotes\""
   ]
  },
  {
   "cell_type": "markdown",
   "id": "504ebf88-fd42-4af7-9a9a-c9fcef73cc1d",
   "metadata": {},
   "source": [
    "**asterisks and _underscores_**"
   ]
  },
  {
   "cell_type": "markdown",
   "id": "9dc796f4-6fc8-4ca5-87b9-2ebba8ce6b2e",
   "metadata": {},
   "source": [
    "1. First ordered list item\n",
    "2. Another item\n",
    "⋅⋅* Unordered sub-list. \n",
    "1. Actual numbers don't matter, just that it's a number\n",
    "⋅⋅1. Ordered sub-list\n",
    "4. And another item."
   ]
  },
  {
   "cell_type": "markdown",
   "id": "d943e719-d471-43a5-9fe3-a3ac9ffb464d",
   "metadata": {},
   "source": [
    "[I'm a relative reference to a repository file](../blob/master/LICENSE)"
   ]
  },
  {
   "cell_type": "code",
   "execution_count": null,
   "id": "10a7211a-84e2-449b-a216-aee8bed4cb71",
   "metadata": {},
   "outputs": [],
   "source": []
  }
 ],
 "metadata": {
  "kernelspec": {
   "display_name": "Python",
   "language": "python",
   "name": "conda-env-python-py"
  },
  "language_info": {
   "codemirror_mode": {
    "name": "ipython",
    "version": 3
   },
   "file_extension": ".py",
   "mimetype": "text/x-python",
   "name": "python",
   "nbconvert_exporter": "python",
   "pygments_lexer": "ipython3",
   "version": "3.7.12"
  }
 },
 "nbformat": 4,
 "nbformat_minor": 5
}
